{
 "cells": [
  {
   "cell_type": "markdown",
   "id": "14b790ca-b099-465a-94bf-9a50f5abc47d",
   "metadata": {},
   "source": [
    "# Architecture\n",
    "- Data Ingestion\n",
    "- Retrival\n",
    "- Generation"
   ]
  },
  {
   "cell_type": "code",
   "execution_count": null,
   "id": "3e7bbd35-ab64-43c3-b88e-d67ee04abc47",
   "metadata": {},
   "outputs": [],
   "source": []
  }
 ],
 "metadata": {
  "kernelspec": {
   "display_name": "Python 3 (ipykernel)",
   "language": "python",
   "name": "python3"
  },
  "language_info": {
   "codemirror_mode": {
    "name": "ipython",
    "version": 3
   },
   "file_extension": ".py",
   "mimetype": "text/x-python",
   "name": "python",
   "nbconvert_exporter": "python",
   "pygments_lexer": "ipython3",
   "version": "3.12.4"
  }
 },
 "nbformat": 4,
 "nbformat_minor": 5
}
